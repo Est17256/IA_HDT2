{
 "cells": [
  {
   "cell_type": "markdown",
   "metadata": {},
   "source": [
    "Universidad del Valle de Guatemala\n",
    "Luis Esturban 17256\n",
    "17/04/2020\n",
    "HDT2"
   ]
  },
  {
   "cell_type": "markdown",
   "metadata": {},
   "source": [
    "Se importan las librerias y modulos necesarios"
   ]
  },
  {
   "cell_type": "code",
   "execution_count": 1,
   "metadata": {},
   "outputs": [],
   "source": [
    "import numpy as np\n",
    "import pandas as pd\n",
    "import pickle\n",
    "from functools import reduce\n",
    "from scipy import optimize as op\n",
    "import Modulos as md"
   ]
  },
  {
   "cell_type": "markdown",
   "metadata": {},
   "source": [
    "Se cargan los datos y se crean las particiones para train y test"
   ]
  },
  {
   "cell_type": "code",
   "execution_count": 2,
   "metadata": {},
   "outputs": [],
   "source": [
    "dTrain = pd.read_csv('fashion-mnist_train.csv')\n",
    "dTest = pd.read_csv('fashion-mnist_test.csv')\n",
    "df = [dTrain, dTest]\n",
    "data = pd.concat(df)\n",
    "data = data.sample(frac = 1)\n",
    "nData = len(data)\n",
    "train = data.iloc[:int(nData * 0.6), :]\n",
    "test = data.iloc[int(nData * 0.6):int(nData * 0.8), :]\n",
    "crossV = data.iloc[int(nData * 0.8):, :]"
   ]
  },
  {
   "cell_type": "markdown",
   "metadata": {},
   "source": [
    "Se separa x e y de train"
   ]
  },
  {
   "cell_type": "code",
   "execution_count": 3,
   "metadata": {},
   "outputs": [],
   "source": [
    "X = train.iloc[:, 1:] / 1000.0 \n",
    "m, n = X.shape\n",
    "y = np.asarray(train.iloc[:, 0])\n",
    "y = y.reshape(m, 1)\n",
    "Y = (y == np.array(range(10))).astype(int)"
   ]
  },
  {
   "cell_type": "markdown",
   "metadata": {},
   "source": [
    "Se crea la arquitectura de la red y se procede a crear el modelo"
   ]
  },
  {
   "cell_type": "code",
   "execution_count": 4,
   "metadata": {},
   "outputs": [],
   "source": [
    "NETWORK_ARCHITECTURE = np.array([n,130,10])\n",
    "with (open(\"iNeurons\", \"rb\")) as openfile:\n",
    "    while True:\n",
    "        try:\n",
    "            iTht = pickle.load(openfile)\n",
    "        except EOFError:\n",
    "            break\n",
    "openfile.close()\n",
    "tht = iTht\n",
    "fTht = np.hstack((NETWORK_ARCHITECTURE[1:].reshape(len(NETWORK_ARCHITECTURE) - 1, 1),(NETWORK_ARCHITECTURE[:-1] + 1).reshape(len(NETWORK_ARCHITECTURE) - 1, 1)))"
   ]
  },
  {
   "cell_type": "markdown",
   "metadata": {},
   "source": [
    "Se inicia el entrenamiento"
   ]
  },
  {
   "cell_type": "code",
   "execution_count": 5,
   "metadata": {},
   "outputs": [
    {
     "name": "stdout",
     "output_type": "stream",
     "text": [
      "Entrenando\n"
     ]
    },
    {
     "name": "stderr",
     "output_type": "stream",
     "text": [
      "C:\\Users\\lcest\\Desktop\\Lab IA 2\\IA_HDT2\\Modulos.py:18: RuntimeWarning: divide by zero encountered in log\n",
      "  return -(Y * np.log(a[-1]) + (1 - Y) * np.log(1 - a[-1])).sum() / len(X)\n",
      "C:\\Users\\lcest\\Desktop\\Lab IA 2\\IA_HDT2\\Modulos.py:18: RuntimeWarning: invalid value encountered in multiply\n",
      "  return -(Y * np.log(a[-1]) + (1 - Y) * np.log(1 - a[-1])).sum() / len(X)\n"
     ]
    },
    {
     "name": "stdout",
     "output_type": "stream",
     "text": [
      "Entrenado\n"
     ]
    }
   ],
   "source": [
    "print(\"Entrenando\")\n",
    "result = op.minimize(fun=md.cost,x0=tht,args=(fTht, X, Y),method='L-BFGS-B',jac=md.cbn,options={'disp': True, 'maxiter': 2000})\n",
    "print(\"Entrenado\")"
   ]
  },
  {
   "cell_type": "markdown",
   "metadata": {},
   "source": [
    "Se crea un diccionario y se guarda el resultado en otro modelo"
   ]
  },
  {
   "cell_type": "code",
   "execution_count": 6,
   "metadata": {},
   "outputs": [],
   "source": [
    "dicc = {\n",
    "  0: \"T-shirt/top\",\n",
    "  1: \"Trouser\",\n",
    "  2: \"Pullover\",\n",
    "  3: \"Dress\",\n",
    "  4: \"Coat\",\n",
    "  5: \"Sandal\",\n",
    "  6: \"Shirt\",\n",
    "  7: \"Sneaker\",\n",
    "  8: \"Bag\",\n",
    "  9: \"Ankle boot\"\n",
    "}\n",
    "outfile = open(\"iNeuronsF\", \"wb\")\n",
    "pickle.dump(result.x, outfile)\n",
    "outfile.close()"
   ]
  },
  {
   "cell_type": "markdown",
   "metadata": {},
   "source": [
    "Se separa x e y de test"
   ]
  },
  {
   "cell_type": "code",
   "execution_count": 7,
   "metadata": {},
   "outputs": [],
   "source": [
    "X = test.iloc[:, 1:] / 1000.0\n",
    "m, n = X.shape\n",
    "y = np.asarray(test.iloc[:, 0])\n",
    "y = y.reshape(m, 1)\n",
    "Y = (y == np.array(range(10))).astype(int)"
   ]
  },
  {
   "cell_type": "markdown",
   "metadata": {},
   "source": [
    "se procede a trabajar con el modelo nuevo"
   ]
  },
  {
   "cell_type": "code",
   "execution_count": 8,
   "metadata": {},
   "outputs": [],
   "source": [
    "with (open(\"iNeuronsF\", \"rb\")) as openfile:\n",
    "    while True:\n",
    "        try:\n",
    "            oTht = pickle.load(openfile)\n",
    "        except EOFError:\n",
    "            break\n",
    "fTht = np.hstack((NETWORK_ARCHITECTURE[1:].reshape(len(NETWORK_ARCHITECTURE) - 1, 1),(NETWORK_ARCHITECTURE[:-1] + 1).reshape(len(NETWORK_ARCHITECTURE) - 1, 1)))\n",
    "res = md.pdt(oTht, fTht, X, Y)"
   ]
  },
  {
   "cell_type": "markdown",
   "metadata": {},
   "source": [
    "Se opera para obtener los valores de las predicciones"
   ]
  },
  {
   "cell_type": "code",
   "execution_count": 9,
   "metadata": {},
   "outputs": [
    {
     "name": "stdout",
     "output_type": "stream",
     "text": [
      "Porcentaje:  9.4 %\n"
     ]
    }
   ],
   "source": [
    "prd = []\n",
    "vTrd = []\n",
    "trd = 0\n",
    "fls = 0\n",
    "for row1 in res[0]:\n",
    "    rst1 = np.where(row1 == np.amax(row1))\n",
    "    prd.append(rst1[0])\n",
    "for row2 in res[1]:\n",
    "    rst2 = np.where(row2 == np.amax(row2))\n",
    "    vTrd.append(rst2[0])\n",
    "for a in range(len(X)):\n",
    "    if prd[a].item(0) == vTrd[a].item(0):\n",
    "        trd = trd + 1\n",
    "    else:\n",
    "        fls = fls + 1\n",
    "print(\"Porcentaje: \", round(100 * trd/(trd + fls), 2), \"%\")"
   ]
  },
  {
   "cell_type": "markdown",
   "metadata": {},
   "source": [
    "Se realiza Cross Validation"
   ]
  },
  {
   "cell_type": "code",
   "execution_count": 10,
   "metadata": {},
   "outputs": [],
   "source": [
    "X = crossV.iloc[:, 1:] / 1000.0\n",
    "m, n = X.shape\n",
    "y = np.asarray(crossV.iloc[:, 0])\n",
    "y = y.reshape(m, 1)\n",
    "Y = (y == np.array(range(10))).astype(int)\n",
    "with (open(\"iNeuronsF\", \"rb\")) as openfile:\n",
    "    while True:\n",
    "        try:\n",
    "            oTht = pickle.load(openfile)\n",
    "        except EOFError:\n",
    "            break\n",
    "fTht = np.hstack((NETWORK_ARCHITECTURE[1:].reshape(len(NETWORK_ARCHITECTURE) - 1, 1),(NETWORK_ARCHITECTURE[:-1] + 1).reshape(len(NETWORK_ARCHITECTURE) - 1, 1)))\n",
    "res = md.pdt(oTht, fTht, X, Y)"
   ]
  },
  {
   "cell_type": "markdown",
   "metadata": {},
   "source": [
    "Se vulve a operar para obtener los valores de las predicciones"
   ]
  },
  {
   "cell_type": "code",
   "execution_count": 11,
   "metadata": {},
   "outputs": [
    {
     "name": "stdout",
     "output_type": "stream",
     "text": [
      "Porcentaje:  10.13 %\n"
     ]
    }
   ],
   "source": [
    "prd = []\n",
    "vTrd = []\n",
    "trd = 0\n",
    "fls = 0\n",
    "for row1 in res[0]:\n",
    "    rst1 = np.where(row1 == np.amax(row1))\n",
    "    prd.append(rst1[0])\n",
    "for row2 in res[1]:\n",
    "    rst2 = np.where(row2 == np.amax(row2))\n",
    "    vTrd.append(rst2[0])\n",
    "for a in range(len(X)):\n",
    "    if prd[a].item(0) == vTrd[a].item(0):\n",
    "        trd = trd + 1\n",
    "    else:\n",
    "        fls = fls + 1\n",
    "print(\"Porcentaje: \", round(100 * trd/(trd + fls), 2), \"%\")"
   ]
  }
 ],
 "metadata": {
  "kernelspec": {
   "display_name": "Python 3",
   "language": "python",
   "name": "python3"
  },
  "language_info": {
   "codemirror_mode": {
    "name": "ipython",
    "version": 3
   },
   "file_extension": ".py",
   "mimetype": "text/x-python",
   "name": "python",
   "nbconvert_exporter": "python",
   "pygments_lexer": "ipython3",
   "version": "3.8.2"
  }
 },
 "nbformat": 4,
 "nbformat_minor": 4
}
